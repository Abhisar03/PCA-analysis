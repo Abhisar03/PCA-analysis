{
  "nbformat": 4,
  "nbformat_minor": 0,
  "metadata": {
    "colab": {
      "provenance": []
    },
    "kernelspec": {
      "name": "python3",
      "display_name": "Python 3"
    },
    "language_info": {
      "name": "python"
    }
  },
  "cells": [
    {
      "cell_type": "markdown",
      "source": [
        "# MCL732 - ASSIGNMENT 1 (PM10)"
      ],
      "metadata": {
        "id": "ATnN1BDw2mbO"
      }
    },
    {
      "cell_type": "markdown",
      "source": [
        "Creating :\n",
        "\n",
        "\n",
        "*   weighting matrix (W)\n",
        "*   Source Matrix (A)\n",
        "*   Specie Contribution Matrix (C)\n",
        "\n",
        "\n",
        "\n"
      ],
      "metadata": {
        "id": "fw4d6iLU2-Y8"
      }
    },
    {
      "cell_type": "code",
      "source": [
        "import pandas as pd\n",
        "import numpy as np\n",
        "\n",
        "def create_weighting_matrix(excel_path):\n",
        "    # Read the Excel file\n",
        "    df = pd.read_excel(excel_path)\n",
        "\n",
        "    # Extract the standard deviation values from the 'SD' column\n",
        "    standard_deviations = df['SD'].values\n",
        "\n",
        "    # Create the diagonal matrix with entries as 1/(standard deviation)^2\n",
        "    weighting_matrix = np.diag(1 / standard_deviations**2)\n",
        "\n",
        "    return weighting_matrix\n",
        "\n",
        "def create_source_matrix(excel_path):\n",
        "    # Read the Excel file\n",
        "    df = pd.read_excel(excel_path, index_col=0)  # Assuming species names are in the first column\n",
        "\n",
        "    # Extract numerical values associated with different sources\n",
        "    source_matrix = df.values\n",
        "\n",
        "    return source_matrix\n",
        "\n",
        "def create_vector_c(excel_path):\n",
        "    # Read the Excel file\n",
        "    df = pd.read_excel(excel_path)\n",
        "\n",
        "    # Extract values from the second column\n",
        "    vector_c = df.iloc[0:, 1].values\n",
        "\n",
        "    # Convert the vector to a column vector\n",
        "    vector_c = vector_c.reshape(-1, 1)\n",
        "\n",
        "    return vector_c\n",
        "\n",
        "def cmb_solution(A, W, C):\n",
        "    # Calculate the solution using Equation 26.16\n",
        "    ATWA_inv = np.linalg.inv(A.T @ W @ A)\n",
        "    s = ATWA_inv @ A.T @ W @ C\n",
        "\n",
        "    return s\n",
        "\n",
        "# Excel paths to access data\n",
        "excel_path_W = 'SD 10.xlsx'\n",
        "excel_path_A = 'Matrix A.xlsx'\n",
        "excel_path_C = 'C 10.xlsx'\n",
        "\n",
        "# Create the weighting matrix\n",
        "W = create_weighting_matrix(excel_path_W)\n",
        "\n",
        "# Create the source matrix\n",
        "A = create_source_matrix(excel_path_A)\n",
        "\n",
        "# Create the vector C\n",
        "C = create_vector_c(excel_path_C)\n",
        "\n",
        "# Apply the CMB solution\n",
        "source_contributions = cmb_solution(A, W, C)\n",
        "#####################################################################################################################################"
      ],
      "metadata": {
        "id": "Jnx-AHYtdjwj"
      },
      "execution_count": 26,
      "outputs": []
    },
    {
      "cell_type": "markdown",
      "source": [
        " Finding Different Sources for which data is available"
      ],
      "metadata": {
        "id": "j-DJyhOoDKfZ"
      }
    },
    {
      "cell_type": "code",
      "source": [
        "#####################################################################################################################################\n",
        "def extract_source_names(excel_path):\n",
        "    # Read the Excel file\n",
        "    df = pd.read_excel(excel_path)\n",
        "    source_names = df.columns[1:].tolist()\n",
        "    return source_names\n",
        "\n",
        "excel_path = 'Matrix A.xlsx'\n",
        "\n",
        "source_names = extract_source_names(excel_path)\n",
        "#####################################################################################################################################"
      ],
      "metadata": {
        "id": "CyMX3ROHlLFN"
      },
      "execution_count": 27,
      "outputs": []
    },
    {
      "cell_type": "markdown",
      "source": [
        "# Calculationg Source Profiles for Matrix W"
      ],
      "metadata": {
        "id": "Vr5wg2LRDcHr"
      }
    },
    {
      "cell_type": "code",
      "source": [
        "source = extract_source_names('Matrix A.xlsx')\n",
        "for i in range(len(source)):\n",
        "  print(source[i],\":\",source_contributions[i][0] * 100)"
      ],
      "metadata": {
        "colab": {
          "base_uri": "https://localhost:8080/"
        },
        "id": "kJUCnePRuN7I",
        "outputId": "b9a921fe-df06-4c31-d1a5-00b1465796c9"
      },
      "execution_count": 28,
      "outputs": [
        {
          "output_type": "stream",
          "name": "stdout",
          "text": [
            "Paved Road Dust : 10.71546368208154\n",
            "Vegetative Burning : 19.201460200704684\n",
            "Primary Crude Oil : 0.5474094847386829\n",
            "Motor Vehicles : 5.8912606564048495\n",
            "Limestone : 2.1214197885041126\n",
            "MARINE : -0.14516932297973562\n",
            "(NH4)2SO4 : 3.4708381128743366\n",
            "NH4NO3 : 13.760266435437615\n",
            "Secondary OC : -0.6982929845547994\n",
            "NaNO3 : -0.6761553272858786\n"
          ]
        }
      ]
    },
    {
      "cell_type": "markdown",
      "source": [
        "# Creating V matrix"
      ],
      "metadata": {
        "id": "PWJPgzjp4GJ1"
      }
    },
    {
      "cell_type": "code",
      "source": [
        "import pandas as pd\n",
        "import numpy as np\n",
        "#####################################################################################################################################\n",
        "def calculate_diagonal_matrix(eq_26_17_excel_path, source_contribution_vector, sd_vector):\n",
        "    # Read the Excel file for original matrix (Oij)\n",
        "    df_eq_26_17 = pd.read_excel(eq_26_17_excel_path)\n",
        "\n",
        "    # Extract data starting from the second column\n",
        "    data = df_eq_26_17.iloc[:, 1:].values\n",
        "\n",
        "    # Transpose source_contribution_vector to make it a row vector\n",
        "    source_contribution_vector_row = source_contribution_vector.T\n",
        "\n",
        "    # Calculate the sum of squares part\n",
        "    sum_of_squares_part = np.sum((source_contribution_vector_row**2) * (data**2), axis=1)\n",
        "\n",
        "    # Calculate the diagonal matrix entries using Eq. 26.17\n",
        "    diagonal_entries = 1 / (sd_vector**2 + sum_of_squares_part)\n",
        "\n",
        "    # Create the diagonal matrix\n",
        "    diagonal_matrix = np.diag(diagonal_entries)\n",
        "\n",
        "    return diagonal_matrix\n",
        "\n",
        "eq_26_17_excel_path = 'eq 26.17.xlsx'\n",
        "\n",
        "\n",
        "source_contribution_vector = source_contributions * 100\n",
        "\n",
        "sd_vector_excel_path = 'SD 10.xlsx'\n",
        "sd_vector_df = pd.read_excel(sd_vector_excel_path)\n",
        "sd_vector = sd_vector_df['SD'].values\n",
        "#####################################################################################################################################"
      ],
      "metadata": {
        "id": "RoyGlQ1nupxP"
      },
      "execution_count": 29,
      "outputs": []
    },
    {
      "cell_type": "markdown",
      "source": [
        "# Calculating V Matrix - Iteration 1 (V1)"
      ],
      "metadata": {
        "id": "u_4Rm0JiEHnx"
      }
    },
    {
      "cell_type": "code",
      "source": [
        "# Calculate the diagonal matrix using Eq. 26.17\n",
        "V1 = calculate_diagonal_matrix(eq_26_17_excel_path, source_contribution_vector, sd_vector)\n",
        "# print(\"V1 matrix\")\n",
        "# print(V1)"
      ],
      "metadata": {
        "id": "QFZcrmtgnhrJ"
      },
      "execution_count": 30,
      "outputs": []
    },
    {
      "cell_type": "markdown",
      "source": [
        "# Source Profiles as per V1 - (source_contributions2)"
      ],
      "metadata": {
        "id": "vSDk-7OvERBr"
      }
    },
    {
      "cell_type": "code",
      "source": [
        "source_contributions2 = cmb_solution(A, V1, C)\n",
        "source = extract_source_names('Matrix A.xlsx')\n",
        "for i in range(len(source)):\n",
        "  print(source[i],source_contributions2[i] * 100)"
      ],
      "metadata": {
        "colab": {
          "base_uri": "https://localhost:8080/"
        },
        "id": "FZgLOSJp4O-Z",
        "outputId": "ed1e4c25-9431-45a1-a7b8-2c3d554f0267"
      },
      "execution_count": 31,
      "outputs": [
        {
          "output_type": "stream",
          "name": "stdout",
          "text": [
            "Paved Road Dust [20.99746248]\n",
            "Vegetative Burning [25.64348671]\n",
            "Primary Crude Oil [0.82789885]\n",
            "Motor Vehicles [12.05779941]\n",
            "Limestone [1.11463189]\n",
            "MARINE [-0.14742566]\n",
            "(NH4)2SO4 [2.96787522]\n",
            "NH4NO3 [14.34603953]\n",
            "Secondary OC [-8.64823028]\n",
            "NaNO3 [-1.33971679]\n"
          ]
        }
      ]
    },
    {
      "cell_type": "markdown",
      "source": [
        "# Calculating V Matrix - Iteration 2 (V2)"
      ],
      "metadata": {
        "id": "hy4dsdvVE6Mz"
      }
    },
    {
      "cell_type": "code",
      "source": [
        "V2 = calculate_diagonal_matrix(eq_26_17_excel_path, source_contributions2, sd_vector)\n",
        "# print(V2)"
      ],
      "metadata": {
        "id": "K1tYJhfuoKxz"
      },
      "execution_count": 32,
      "outputs": []
    },
    {
      "cell_type": "markdown",
      "source": [
        "# Source Profiles as per V2 - (source_contributions3)"
      ],
      "metadata": {
        "id": "i3oC-CdCFRR2"
      }
    },
    {
      "cell_type": "code",
      "source": [
        "source_contributions3 = cmb_solution(A, V2, C)\n",
        "source = extract_source_names('Matrix A.xlsx')\n",
        "for i in range(len(source)):\n",
        "  print(source[i],source_contributions3[i] * 100)"
      ],
      "metadata": {
        "colab": {
          "base_uri": "https://localhost:8080/"
        },
        "id": "cvbEVXRgpPMH",
        "outputId": "a39aec9d-99fd-4d51-b5d0-226a86706d3b"
      },
      "execution_count": 33,
      "outputs": [
        {
          "output_type": "stream",
          "name": "stdout",
          "text": [
            "Paved Road Dust [10.71740177]\n",
            "Vegetative Burning [19.11004137]\n",
            "Primary Crude Oil [0.55338127]\n",
            "Motor Vehicles [7.34529366]\n",
            "Limestone [2.05442028]\n",
            "MARINE [-0.11537542]\n",
            "(NH4)2SO4 [3.40746423]\n",
            "NH4NO3 [13.83750423]\n",
            "Secondary OC [-1.38215729]\n",
            "NaNO3 [-0.75768748]\n"
          ]
        }
      ]
    },
    {
      "cell_type": "markdown",
      "source": [
        "# Calculating V Matrix - Iteration 3 (V3)"
      ],
      "metadata": {
        "id": "ZH_BnTdFFBil"
      }
    },
    {
      "cell_type": "code",
      "source": [
        "V3 = calculate_diagonal_matrix(eq_26_17_excel_path, source_contributions3, sd_vector)\n",
        "# print(V3)"
      ],
      "metadata": {
        "id": "fpX1tXLspf44"
      },
      "execution_count": 34,
      "outputs": []
    },
    {
      "cell_type": "markdown",
      "source": [
        "# Source Profiles as per V3 - (source_contributions4)"
      ],
      "metadata": {
        "id": "u-af3ZoyFYvV"
      }
    },
    {
      "cell_type": "code",
      "source": [
        "source_contributions4 = cmb_solution(A, V3, C)\n",
        "source = extract_source_names('Matrix A.xlsx')\n",
        "for i in range(len(source)):\n",
        "  print(source[i],source_contributions4[i] * 100)"
      ],
      "metadata": {
        "colab": {
          "base_uri": "https://localhost:8080/"
        },
        "id": "qMf4ueGVsNl_",
        "outputId": "c8bc831e-c9b2-4ab3-c64d-67850642dfd6"
      },
      "execution_count": 35,
      "outputs": [
        {
          "output_type": "stream",
          "name": "stdout",
          "text": [
            "Paved Road Dust [10.59937685]\n",
            "Vegetative Burning [19.27577168]\n",
            "Primary Crude Oil [0.56895564]\n",
            "Motor Vehicles [6.65399988]\n",
            "Limestone [2.10054358]\n",
            "MARINE [-0.13506998]\n",
            "(NH4)2SO4 [3.4310954]\n",
            "NH4NO3 [13.80819892]\n",
            "Secondary OC [-1.08873864]\n",
            "NaNO3 [-0.7275833]\n"
          ]
        }
      ]
    },
    {
      "cell_type": "markdown",
      "source": [
        "# Source Contribution after a given number of itertions"
      ],
      "metadata": {
        "id": "mB09dxtST3VS"
      }
    },
    {
      "cell_type": "code",
      "source": [
        "#####################################################################################################################################\n",
        "sc = source_contributions\n",
        "for i in range(10):\n",
        "  Vi = calculate_diagonal_matrix(eq_26_17_excel_path, sc, sd_vector)\n",
        "  sc = cmb_solution(A, Vi, C)\n",
        "  print(\"Iteration number : \", i+1)\n",
        "  print()\n",
        "  for j in range(len(source)):\n",
        "    print(source[j],sc[j][0] * 100)\n",
        "#####################################################################################################################################\n"
      ],
      "metadata": {
        "colab": {
          "base_uri": "https://localhost:8080/"
        },
        "id": "-pXeNpq4TpdN",
        "outputId": "d66458bf-2adc-4ba4-87bc-022ebfcdacd0"
      },
      "execution_count": 36,
      "outputs": [
        {
          "output_type": "stream",
          "name": "stdout",
          "text": [
            "Iteration number :  1\n",
            "\n",
            "Paved Road Dust 10.65056250801015\n",
            "Vegetative Burning 19.379564244332567\n",
            "Primary Crude Oil 0.5692705424830495\n",
            "Motor Vehicles 6.420840308636251\n",
            "Limestone 2.1053743299827796\n",
            "MARINE -0.14365911020020278\n",
            "(NH4)2SO4 3.4395430159226072\n",
            "NH4NO3 13.797556014914344\n",
            "Secondary OC -1.0288748276310027\n",
            "NaNO3 -0.7169266095575135\n",
            "Iteration number :  2\n",
            "\n",
            "Paved Road Dust 10.630481708115855\n",
            "Vegetative Burning 19.352808878987755\n",
            "Primary Crude Oil 0.5693959720561725\n",
            "Motor Vehicles 6.504035900685601\n",
            "Limestone 2.1038332175263905\n",
            "MARINE -0.14103417413115182\n",
            "(NH4)2SO4 3.4363275620801685\n",
            "NH4NO3 13.801558703525952\n",
            "Secondary OC -1.0544660152416374\n",
            "NaNO3 -0.7210123076180178\n",
            "Iteration number :  3\n",
            "\n",
            "Paved Road Dust 10.627199259816177\n",
            "Vegetative Burning 19.346120527709147\n",
            "Primary Crude Oil 0.5694273736555977\n",
            "Motor Vehicles 6.51742284460285\n",
            "Limestone 2.103604814805277\n",
            "MARINE -0.14050935600137662\n",
            "(NH4)2SO4 3.435839147747776\n",
            "NH4NO3 13.802176628866\n",
            "Secondary OC -1.0575109979911597\n",
            "NaNO3 -0.7216268370496083\n",
            "Iteration number :  4\n",
            "\n",
            "Paved Road Dust 10.626672901301502\n",
            "Vegetative Burning 19.344933644650883\n",
            "Primary Crude Oil 0.569433044834204\n",
            "Motor Vehicles 6.5195857935184325\n",
            "Limestone 2.103567817711756\n",
            "MARINE -0.14041992554996327\n",
            "(NH4)2SO4 3.4357614826833327\n",
            "NH4NO3 13.802275354892446\n",
            "Secondary OC -1.057956378161691\n",
            "NaNO3 -0.7217242708915426\n",
            "Iteration number :  5\n",
            "\n",
            "Paved Road Dust 10.62658807578533\n",
            "Vegetative Burning 19.344736889768953\n",
            "Primary Crude Oil 0.5694339691995949\n",
            "Motor Vehicles 6.519935559942723\n",
            "Limestone 2.103561811333973\n",
            "MARINE -0.14040525118599173\n",
            "(NH4)2SO4 3.4357489855849326\n",
            "NH4NO3 13.802291262771435\n",
            "Secondary OC -1.0580263039910414\n",
            "NaNO3 -0.7217399356359271\n",
            "Iteration number :  6\n",
            "\n",
            "Paved Road Dust 10.626574371387896\n",
            "Vegetative Burning 19.344704845115366\n",
            "Primary Crude Oil 0.5694341185596614\n",
            "Motor Vehicles 6.519992130982888\n",
            "Limestone 2.103560838415071\n",
            "MARINE -0.14040286793755766\n",
            "(NH4)2SO4 3.4357469672845675\n",
            "NH4NO3 13.802293832934504\n",
            "Secondary OC -1.0580375178866612\n",
            "NaNO3 -0.7217424648953062\n",
            "Iteration number :  7\n",
            "\n",
            "Paved Road Dust 10.626572155472594\n",
            "Vegetative Burning 19.34469965174857\n",
            "Primary Crude Oil 0.5694341427021545\n",
            "Motor Vehicles 6.520001281194644\n",
            "Limestone 2.1035606809744025\n",
            "MARINE -0.1404024819986886\n",
            "(NH4)2SO4 3.435746640969745\n",
            "NH4NO3 13.802294248520553\n",
            "Secondary OC -1.058039327283635\n",
            "NaNO3 -0.7217428737921915\n",
            "Iteration number :  8\n",
            "\n",
            "Paved Road Dust 10.626571797084164\n",
            "Vegetative Burning 19.34469881125142\n",
            "Primary Crude Oil 0.569434146606271\n",
            "Motor Vehicles 6.52000276123525\n",
            "Limestone 2.1035606555049475\n",
            "MARINE -0.14040241955224714\n",
            "(NH4)2SO4 3.4357465881950553\n",
            "NH4NO3 13.8022943157352\n",
            "Secondary OC -1.0580396197478823\n",
            "NaNO3 -0.7217429399214871\n",
            "Iteration number :  9\n",
            "\n",
            "Paved Road Dust 10.62657173911646\n",
            "Vegetative Burning 19.344698675279155\n",
            "Primary Crude Oil 0.569434147237716\n",
            "Motor Vehicles 6.520003000631651\n",
            "Limestone 2.1035606513851004\n",
            "MARINE -0.14040240945056434\n",
            "(NH4)2SO4 3.435746579659059\n",
            "NH4NO3 13.802294326606876\n",
            "Secondary OC -1.0580396670444752\n",
            "NaNO3 -0.721742950617448\n",
            "Iteration number :  10\n",
            "\n",
            "Paved Road Dust 10.626571729740254\n",
            "Vegetative Burning 19.344698653284603\n",
            "Primary Crude Oil 0.5694341473398503\n",
            "Motor Vehicles 6.520003039354033\n",
            "Limestone 2.1035606507187063\n",
            "MARINE -0.14040240781657012\n",
            "(NH4)2SO4 3.4357465782783723\n",
            "NH4NO3 13.802294328365361\n",
            "Secondary OC -1.0580396746942584\n",
            "NaNO3 -0.7217429523475043\n"
          ]
        }
      ]
    },
    {
      "cell_type": "markdown",
      "source": [
        "# Solution of D Part 1"
      ],
      "metadata": {
        "id": "2eI2WaLJwXMg"
      }
    },
    {
      "cell_type": "code",
      "source": [
        "#####################################################################################################################################\n",
        "# Solving D1\n",
        "excel_path_W = 'SD 10.xlsx' #this matrix contains standard deviations\n",
        "excel_path_A_D1 = 'D1_A Matrix.xlsx' #this contians the aij matrix\n",
        "excel_path_C = 'C 10.xlsx' #this contians the total contribution of each specie\n",
        "eq_26_17_excel_path = 'eq 26.17.xlsx' #this contains sigma_aij for V matrix\n",
        "# Create the weighting matrix\n",
        "W = create_weighting_matrix(excel_path_W)\n",
        "\n",
        "# Create the source matrix\n",
        "A_D1 = create_source_matrix(excel_path_A_D1)\n",
        "\n",
        "# Create the vector C\n",
        "C = create_vector_c(excel_path_C)\n",
        "\n",
        "# Apply the CMB solution\n",
        "source_contributions_D1 = cmb_solution(A_D1, W, C)\n",
        "source = extract_source_names('D1_A Matrix.xlsx')\n",
        "for i in range(len(source)):\n",
        "  print(source[i],source_contributions_D1[i] * 100)\n",
        "  #####################################################################################################################################"
      ],
      "metadata": {
        "colab": {
          "base_uri": "https://localhost:8080/"
        },
        "id": "Ci5IPxQvTtFN",
        "outputId": "17803c1b-220a-421b-a95f-9b299778df18"
      },
      "execution_count": 37,
      "outputs": [
        {
          "output_type": "stream",
          "name": "stdout",
          "text": [
            "Paved Road Dust [10.72729015]\n",
            "Vegetative Burning [19.00827014]\n",
            "Primary Crude Oil [0.5472701]\n",
            "Motor Vehicles [5.85958612]\n",
            "Limestone [2.12309141]\n",
            "MARINE [-0.13359869]\n",
            "(NH4)2SO4 [3.47426258]\n",
            "NH4NO3 [13.756843]\n",
            "Secondary OC [0.17598656]\n",
            "NaNO3 [-0.67129155]\n"
          ]
        }
      ]
    },
    {
      "cell_type": "markdown",
      "source": [
        "# Solution of D Part 2"
      ],
      "metadata": {
        "id": "W3EJtJrdwUXQ"
      }
    },
    {
      "cell_type": "code",
      "source": [
        "#####################################################################################################################################\n",
        "# Solving D2\n",
        "excel_path_W = 'SD 10.xlsx' #this matrix contains standard deviations\n",
        "excel_path_A_D2 = 'D2_A Matrix.xlsx' #this contians the aij matrix\n",
        "excel_path_C = 'C 10.xlsx' #this contians the total contribution of each specie\n",
        "eq_26_17_excel_path = 'eq 26.17.xlsx' #this contains sigma_aij for V matrix\n",
        "# Create the weighting matrix\n",
        "W = create_weighting_matrix(excel_path_W)\n",
        "\n",
        "# Create the source matrix\n",
        "A_D2 = create_source_matrix(excel_path_A_D2)\n",
        "\n",
        "# Create the vector C\n",
        "C = create_vector_c(excel_path_C)\n",
        "\n",
        "# Apply the CMB solution\n",
        "source_contributions_D2 = cmb_solution(A_D2, W, C)\n",
        "source = extract_source_names('D2_A Matrix.xlsx')\n",
        "for i in range(len(source)):\n",
        "  print(source[i],source_contributions_D2[i] * 100)\n",
        "#####################################################################################################################################"
      ],
      "metadata": {
        "colab": {
          "base_uri": "https://localhost:8080/"
        },
        "id": "yvEG4R-Iu3L_",
        "outputId": "523b2755-faf8-400c-8208-16020d050a06"
      },
      "execution_count": 38,
      "outputs": [
        {
          "output_type": "stream",
          "name": "stdout",
          "text": [
            "Paved Road Dust [10.20306131]\n",
            "Vegetative Burning [19.51018709]\n",
            "Primary Crude Oil [0.55648503]\n",
            "Motor Vehicles [6.26126554]\n",
            "Limestone [0.12458349]\n",
            "MARINE [-0.14668274]\n",
            "(NH4)2SO4 [3.53454222]\n",
            "NH4NO3 [13.6818]\n",
            "Secondary OC [-0.92037426]\n",
            "NaNO3 [-0.59469419]\n"
          ]
        }
      ]
    }
  ]
}